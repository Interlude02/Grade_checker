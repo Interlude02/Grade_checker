{
 "cells": [
  {
   "cell_type": "markdown",
   "id": "7f2cede1",
   "metadata": {},
   "source": [
    "<h1 style='color:blue' align=center>Assignment#3-Fall 2023</h1>"
   ]
  },
  {
   "cell_type": "code",
   "execution_count": null,
   "id": "0d333234",
   "metadata": {},
   "outputs": [],
   "source": [
    "# Student Name: Cesar Jaquez"
   ]
  },
  {
   "cell_type": "markdown",
   "id": "f12e2ff5",
   "metadata": {},
   "source": [
    "<b> Q#1</b>(5 POINTS) Write a program that takes a sentence as input, where words are separated by spaces, but all the words are in lowercase. The program should convert the sentence to a new string where each word starts with an uppercase letter, and there are no spaces between words. Additionally, ensure that the first word in the new string is in lowercase.\n",
    "\n",
    "For example, if the input is \"the quick brown fox,\" the program should output \"theQuickBrownFox.\""
   ]
  },
  {
   "cell_type": "code",
   "execution_count": 7,
   "id": "fc32b65a",
   "metadata": {},
   "outputs": [
    {
     "name": "stdout",
     "output_type": "stream",
     "text": [
      "enter a sentence: the quick brown fox\n",
      "theQuickBrownFox\n"
     ]
    }
   ],
   "source": [
    "# Write your code for Question#1 over here.\n",
    "#DONOT USE THIS ONE I GOTTA SEE SOMETHING FIRST\n",
    "# Write your code for Question#1 over here.\n",
    "def cap_words(sentence):\n",
    "    words = sentence.split()\n",
    "    result = words[0].lower()\n",
    "    \n",
    "    for i in words[1:]:\n",
    "        result += i[0].upper()+ i[1:]\n",
    "    return result\n",
    "    \n",
    "sentence = input('enter a sentence: ')\n",
    "ending = cap_words(sentence)\n",
    "print(ending)\n",
    "\n",
    "    \n"
   ]
  },
  {
   "cell_type": "markdown",
   "id": "12d7d3f6",
   "metadata": {},
   "source": [
    "<b> Q#2</b>(5 POINTS) Write a program that generates 200 random integers between -50 and 50 (inclusive). The program should store the frequency of each integer generated in a dictionary with the integer as the key and the count of times it has occurred as the value. Additionally, calculate and display the following statistics:\n",
    "1. The count of integers generated. (including duplicates).\n",
    "2. The count of unique integers generated.\n",
    "3. Allow the user to search for a specific number and display its frequency if it exists in list of generated numbers.."
   ]
  },
  {
   "cell_type": "code",
   "execution_count": 26,
   "id": "fea42935",
   "metadata": {},
   "outputs": [
    {
     "name": "stdout",
     "output_type": "stream",
     "text": [
      "200\n",
      "{-50: 1, -49: 3, -48: 0, -47: 4, -46: 2, -45: 1, -44: 3, -43: 0, -42: 3, -41: 0, -40: 1, -39: 4, -38: 2, -37: 4, -36: 1, -35: 2, -34: 2, -33: 3, -32: 2, -31: 0, -30: 1, -29: 2, -28: 3, -27: 1, -26: 0, -25: 1, -24: 0, -23: 5, -22: 6, -21: 3, -20: 2, -19: 1, -18: 2, -17: 2, -16: 1, -15: 3, -14: 4, -13: 4, -12: 0, -11: 3, -10: 2, -9: 6, -8: 2, -7: 3, -6: 2, -5: 2, -4: 1, -3: 3, -2: 3, -1: 3, 0: 3, 1: 1, 2: 2, 3: 1, 4: 2, 5: 4, 6: 2, 7: 1, 8: 0, 9: 2, 10: 2, 11: 2, 12: 0, 13: 2, 14: 2, 15: 0, 16: 3, 17: 1, 18: 1, 19: 2, 20: 3, 21: 2, 22: 1, 23: 3, 24: 2, 25: 1, 26: 3, 27: 0, 28: 2, 29: 2, 30: 0, 31: 2, 32: 1, 33: 1, 34: 3, 35: 1, 36: 3, 37: 1, 38: 2, 39: 1, 40: 4, 41: 4, 42: 2, 43: 0, 44: 0, 45: 0, 46: 4, 47: 2, 48: 1, 49: 3, 50: 4}\n",
      "{0, 1, 2, 3, 4, 5, 6, 7, 9, 10, 11, 13, 14, 16, 17, 18, 19, 20, 21, 22, 23, 24, 25, 26, 28, 29, 31, 32, 33, 34, 35, 36, 37, 38, 39, 40, 41, 42, 46, 47, 48, 49, 50, -50, -49, -47, -46, -45, -44, -42, -40, -39, -38, -37, -36, -35, -34, -33, -32, -30, -29, -28, -27, -25, -23, -22, -21, -20, -19, -18, -17, -16, -15, -14, -13, -11, -1, -9, -8, -7, -6, -5, -4, -3, -2, -10}\n",
      "86\n",
      "Enter a number bewteen -50 and 50: 28\n",
      "2\n"
     ]
    }
   ],
   "source": [
    "# Write your code for Question#2 over here.\n",
    "import random #check number 3 on dict and set examples!!\n",
    "#remember sets do not give you diplicates\n",
    "num_list = []\n",
    "for num in range(200):\n",
    "    rand = random.randint(-50,50)\n",
    "    num_list.append(rand)\n",
    "\n",
    "#print(num_list) \n",
    "#Q1 answer\n",
    "print(len(num_list))\n",
    "num_dict = {}\n",
    "for num in range(-50,51):\n",
    "    num_dict[num] = 0 \n",
    "#print(num_dict)\n",
    "\n",
    "for item in num_list:\n",
    "    num_dict[item]+=1\n",
    "\n",
    "    \n",
    "print(num_dict) #THIS ONE IS NEEDED SO LEAVE IT AT THE END\n",
    "#print(set(num_dict))\n",
    "\n",
    "        \n",
    "uniq_val = set(num_list)\n",
    "print(uniq_val)\n",
    "#Q2 answer \n",
    "print(len(uniq_val))\n",
    "#Q3 answer \n",
    "number = int(input('Enter a number bewteen -50 and 50: '))\n",
    "if number in num_dict:\n",
    "    print(num_dict[number])\n",
    "else:\n",
    "    print('the number is not between -50 and 50')\n",
    "\n",
    "    "
   ]
  },
  {
   "cell_type": "markdown",
   "id": "25564677",
   "metadata": {},
   "source": [
    "<b> Q#3</b> (5 POINTS) Write a program that collects information about the user's top three favorite movies. The program should collect the titles of the movies as well as the year they were released. The program should create a tuple for each movie in the following format: ('movie name', 'production year'), and then add all of the tuples to a list. Finally, the program should display the title of the movie with the most recent production year. (Tip: If two movies were made in the same year, the program should only display one of them.)\n",
    "\n",
    "\n",
    "<br>Here is an example:\n",
    "\n",
    "<b><i>input:</i></b><br/>\n",
    "&nbsp;&nbsp;&nbsp;&nbsp;&nbsp;&nbsp;&nbsp;&nbsp;<span style=\"color:red\">Please enter the name of your favorite movie: </span> <span style=\"color:blue\">The Godfather</span><br>\n",
    "&nbsp;&nbsp;&nbsp;&nbsp;&nbsp;&nbsp;&nbsp;&nbsp;<span style=\"color:red\">Please enter the year that the movie was produced:</span> <span style=\"color:blue\">1974</span><br>\n",
    "&nbsp;&nbsp;&nbsp;&nbsp;&nbsp;&nbsp;&nbsp;&nbsp;<span style=\"color:red\">Please enter the name of your favorite movie: </span> <span style=\"color:blue\">Inception</span><br>\n",
    "&nbsp;&nbsp;&nbsp;&nbsp;&nbsp;&nbsp;&nbsp;&nbsp;<span style=\"color:red\">Please enter the year that the movie was produced:</span> <span style=\"color:blue\">2010</span><br>\n",
    "&nbsp;&nbsp;&nbsp;&nbsp;&nbsp;&nbsp;&nbsp;&nbsp;<span style=\"color:red\">Please enter the name of your favorite movie: </span> <span style=\"color:blue\">The Lord Of The Rings</span><br>\n",
    "&nbsp;&nbsp;&nbsp;&nbsp;&nbsp;&nbsp;&nbsp;&nbsp;<span style=\"color:red\">Please enter the year that the movie was produced:</span> <span style=\"color:blue\">2002</span><br>\n",
    "\n",
    "\n",
    "<b><i>output:</i></b><br/>\n",
    "&nbsp;&nbsp;&nbsp;&nbsp;&nbsp;&nbsp;&nbsp;&nbsp;[('The Godfather', '1974'), ('Inception', '2010'), ('The Lord Of The Rings', '2002')]<br>\n",
    "&nbsp;&nbsp;&nbsp;&nbsp;&nbsp;&nbsp;&nbsp;&nbsp;the most recen movie in the list is  Inception<br>\n",
    "\n"
   ]
  },
  {
   "cell_type": "code",
   "execution_count": 2,
   "id": "f4527b60",
   "metadata": {},
   "outputs": [
    {
     "name": "stdout",
     "output_type": "stream",
     "text": [
      "Please enter the name of your favorite movie: Spider-Man\n",
      "Please enter the year that the movie was produced: 2002\n",
      "Please enter the name of your favorite movie: Hehe \n",
      "Please enter the year that the movie was produced: 1999\n",
      "Please enter the name of your favorite movie: The lord of the rings\n",
      "Please enter the year that the movie was produced: 2002\n",
      "the most recent movie in the list is The lord of the rings\n"
     ]
    }
   ],
   "source": [
    "# Write your code for Question#3 over here.\n",
    "\n",
    "fav1 = input('Please enter the name of your favorite movie: ')\n",
    "year1 = int(input('Please enter the year that the movie was produced: '))\n",
    "fav2 = input('Please enter the name of your favorite movie: ')\n",
    "year2 = int(input('Please enter the year that the movie was produced: '))\n",
    "fav3 = input('Please enter the name of your favorite movie: ')\n",
    "year3 = int(input('Please enter the year that the movie was produced: '))\n",
    "\n",
    "movie_info = []\n",
    "movie_info.append(tuple([fav1, year1]))\n",
    "movie_info.append(tuple([fav2, year2]))\n",
    "movie_info.append(tuple([fav3, year3]))\n",
    "\n",
    "uno = movie_info[0][1]\n",
    "#print(uno)\n",
    "#write if statements uno>dos and print then if year is same compare the words for biggest cause abc is bigger than ABC\n",
    "dos = movie_info[1][1]\n",
    "tres = movie_info[2][1]\n",
    "if uno>dos and uno>tres or fav1>fav2 and fav1>fav3:\n",
    "    print('the most recent movie in the list is,', fav1)\n",
    "elif dos>uno and dos>tres or fav2>fav1 and fav2>fav3:\n",
    "    print('the most recent movie in the list is', fav2)\n",
    "else:\n",
    "    print('the most recent movie in the list is', fav3)\n",
    "\n",
    "\n",
    "#figure out how to get one if the movies came out in the same year. \n",
    "#print(movie_info)\n",
    "#result = max(movie_info)\n",
    "#print(result)"
   ]
  },
  {
   "cell_type": "markdown",
   "id": "291f80eb",
   "metadata": {},
   "source": [
    "<b>Q#4:</b> (5 POINTS)Consider the following sets: \n",
    "<ul>\n",
    "    <li>setA: set([12, 32, 26, 87, 21, 65, 41, 87])</li>\n",
    "    <li>setB: set([12, 26, 73, 24, 87, 41])</li>\n",
    "    <li>setC: set([32, 73, 46, 54, 65])</li>\n",
    "    \n",
    " </ul>\n",
    "<br>Write a program that compares these three sets in the following ways:\n",
    "<ul>\n",
    "<li> It should display a list of all the unique numbers contained in all sets.</li>\n",
    "<li> It should display a list of the numbers that appear in all sets.</li>\n",
    "<li> It should display a list of the numbers that appear in the first set but not the second.</li>\n",
    "<li> It should display a list of the numbers that appear in the second file but not the third.</li>\n",
    "<li> It should display a list of the numbers that appear in either the first or third set, but not\n",
    "    both.</li>\n",
    "</ul>"
   ]
  },
  {
   "cell_type": "code",
   "execution_count": 21,
   "id": "d6b6fb87",
   "metadata": {},
   "outputs": [
    {
     "name": "stdout",
     "output_type": "stream",
     "text": [
      "[21, 54, 24, 46]\n",
      "[[32, 65, 41, 12, 21, 87, 26], [73, 41, 12, 87, 24, 26], [32, 65, 73, 46, 54]]\n",
      "[32, 65, 21]\n",
      "[41, 12, 87, 24, 26]\n",
      "[{41, 12, 21, 87, 26}, {54, 73, 46}]\n"
     ]
    }
   ],
   "source": [
    "# Write your code for Question#4 over here. # symettric!! and check email for last point\n",
    "setA= set([12, 32, 26, 87, 21, 65, 41, 87])\n",
    "setB= set([12, 26, 73, 24, 87, 41])\n",
    "setC= set([32, 73, 46, 54, 65])\n",
    "\n",
    "unique1 = setA.symmetric_difference(setB)\n",
    "#print (set(unique1))\n",
    "#Q1\n",
    "real_unique = unique1.symmetric_difference(setC)\n",
    "print(list(real_unique))\n",
    "#unique2 = setA.symmetric_difference(setB)\n",
    "#print(unique2)\n",
    "#unique3 = setA.symmetric_difference(setB)\n",
    "#print(unique3)\n",
    "#Q2\n",
    "all_nums= []\n",
    "all_nums.append(list(setA))\n",
    "all_nums.append(list(setB))\n",
    "all_nums.append(list(setC))\n",
    "print(list(all_nums))\n",
    "\n",
    "#Q3\n",
    "uniqueA = setA.difference(setB)\n",
    "print(list(uniqueA))\n",
    "\n",
    "#Q4\n",
    "uniqueB = setB.difference(setC)\n",
    "print(list(uniqueB))\n",
    "\n",
    "#Q5\n",
    "not_both=[]\n",
    "not_dos = setA.difference(setC)\n",
    "not_uno = setC.difference(setA)\n",
    "not_both.append(not_dos)\n",
    "not_both.append(not_uno)\n",
    "print(not_both) #maybe do .union if the list has to be one with no commas?\n",
    "#ASK PROFESSOR IF THIS IS HOW THE LIST IS SUPPOSE TO LOOK BECAUSE IT HAS COMMAS BETWEEN THE SETS."
   ]
  },
  {
   "cell_type": "markdown",
   "id": "ad915bea",
   "metadata": {},
   "source": [
    "<b> Q#5:</b> (5 POINTS) Write a function that takes a line of text and a single letter as input and returns the number of times the given letter is the first character of a word in the text. Words are separated by spaces, and you can assume that the text contains only lowercase letters and spaces. The letter should be case-insensitive, meaning you should count occurrences regardless of whether the letter is uppercase or lowercase.\n",
    "\n",
    "For example, if the input text is \"apple banana avocado\" and the letter is \"a,\" the function should return 3, as \"apple,\" \"avocado,\" and \"avocado\" start with the letter \"a.\""
   ]
  },
  {
   "cell_type": "code",
   "execution_count": 1,
   "id": "587e4b57",
   "metadata": {},
   "outputs": [
    {
     "name": "stdout",
     "output_type": "stream",
     "text": [
      "enter any string: apple banana avocado\n",
      "enter any single letter: a\n"
     ]
    },
    {
     "data": {
      "text/plain": [
       "2"
      ]
     },
     "execution_count": 1,
     "metadata": {},
     "output_type": "execute_result"
    }
   ],
   "source": [
    "# Write your code for Question#5 over here. #check 1.1 more about strings\n",
    "def main():\n",
    "    count = 0 \n",
    "    el_input= input('enter any string: ')\n",
    "    string = el_input.lower()\n",
    "    letter = input('enter any single letter: ')\n",
    "    letter2 = letter.lower()\n",
    "    \n",
    "    count = 0 \n",
    "    for i in range(0, len(string)):\n",
    "        if string[i] == letter2 and (i == 0 or string[i - 1] == \" \"):\n",
    "            count+=1\n",
    "    return count\n",
    "\n",
    "\n",
    "        \n",
    "main()"
   ]
  },
  {
   "cell_type": "markdown",
   "id": "c9b9aa3a",
   "metadata": {},
   "source": [
    "# <b>Important Points:</b>\n",
    "<ul>\n",
    "    <li>Make sure you put your name at the top of the assignment file as a comment.</li>\n",
    "    <li>Write your code for each question in the specified cell</li>\n",
    "    <li><b>You should only use the programming concepts that have been covered in this course.</b></li>\n",
    "    <li>Try to add comments to your code.</li>\n",
    "    <li>Make sure to save the ipython file (this file) <b>with the outputs</b> and submit the file on Canvas.</li>\n",
    "    <li>For questions without ouput you will not get any point.</li>\n",
    "    <li>If your code has an error (even a simple syntax error), you will not get any point for that questions.</li>\n",
    "    <li>The <b>due date</b> for this assignment is:<span style='color:red'> --<b> November 26 at 11:59 PM</b>.</span></li>\n",
    "    <li><u><b>No late submission will be accepted.</b></u></li>\n",
    "</ul>"
   ]
  }
 ],
 "metadata": {
  "kernelspec": {
   "display_name": "Python 3 (ipykernel)",
   "language": "python",
   "name": "python3"
  },
  "language_info": {
   "codemirror_mode": {
    "name": "ipython",
    "version": 3
   },
   "file_extension": ".py",
   "mimetype": "text/x-python",
   "name": "python",
   "nbconvert_exporter": "python",
   "pygments_lexer": "ipython3",
   "version": "3.11.4"
  }
 },
 "nbformat": 4,
 "nbformat_minor": 5
}

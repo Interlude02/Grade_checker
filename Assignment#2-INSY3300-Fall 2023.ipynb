{
 "cells": [
  {
   "cell_type": "markdown",
   "id": "d2de3244",
   "metadata": {},
   "source": [
    "<h1 style='color:blue' align=center>Assignment#2</h1>"
   ]
  },
  {
   "cell_type": "code",
   "execution_count": null,
   "id": "f6a5f487",
   "metadata": {},
   "outputs": [],
   "source": [
    "# Student Name: Cesar Jaquez"
   ]
  },
  {
   "cell_type": "markdown",
   "id": "41405f4b",
   "metadata": {},
   "source": [
    "## <b>Q#1</b>(5 points) Write a program that asks the user to enter an anumber between 1 and 36(both included. Keep asking, if the number is not in the range of 1-36. Then compare the number to a randomly generated integer number between 1 and 36(both included). If two numbers are equal, the program should display \"WIN\", otherwise it should display \"LOSE\" and then show the randomly generated number. Your program should contain the following functions:\n",
    "<ol>\n",
    "    <li>A function that generates an integer number between 1 and 36</li>\n",
    "    <li>A function that computes number entered by user and randomly generated number and display the right message.</li>\n",
    "    <li>A <span style='color:blue'>main( )</span> function that keeps asking the user to enter a number between 1-36 and uses the two functions above to report whether or not the user wins the game. If the user enters 0, the program should stop asking for a new number.</li>\n",
    "</ol>\n",
    "\n",
    "<br>Here is an example:\n",
    "\n",
    "<b><i>input:</i></b><br/>\n",
    "&nbsp;&nbsp;&nbsp;&nbsp;&nbsp;&nbsp;&nbsp;&nbsp;<span style=\"color:red\">Please enter a number between 1 and 36 (enter 0 to stop the program):</span> <span style=\"color:blue\">12</span><br>\n",
    "\n",
    "<b><i>output:</i></b><br/>\n",
    "\"LOSE\", the winner number is 22 <br/>\n",
    "\n",
    "<b><i>input:</i></b><br/>\n",
    "&nbsp;&nbsp;&nbsp;&nbsp;&nbsp;&nbsp;&nbsp;&nbsp;<span style=\"color:red\">Please enter a number between 1 and 36 (enter 0 to stop the program):</span> <span style=\"color:blue\">1</span><br>\n",
    "\n",
    "<b><i>output:</i></b><br/>\n",
    "\"LOSE\", the winner number is 36 <br/>\n",
    "\n",
    "<b><i>input:</i></b><br/>\n",
    "&nbsp;&nbsp;&nbsp;&nbsp;&nbsp;&nbsp;&nbsp;&nbsp;<span style=\"color:red\">Please enter a number between 1 and 36 (enter 0 to stop the program):</span> <span style=\"color:blue\">10</span><br>\n",
    "\n",
    "<b><i>output:</i></b><br/>\n",
    "\"WIN\"<br/>\n",
    "\n",
    "<b><i>input:</i></b><br/>\n",
    "&nbsp;&nbsp;&nbsp;&nbsp;&nbsp;&nbsp;&nbsp;&nbsp;<span style=\"color:red\">Please enter a number between 1 and 36 (enter 0 to stop the program):</span> <span style=\"color:blue\">0</span><br>\n",
    "\n",
    "<b><i>output:</i></b><br/>\n",
    "Thank You!<br/>\n",
    "\n",
    "\n",
    "<b>Note:</b> Since the numbers are generated randomly, your output will be different from the example above."
   ]
  },
  {
   "cell_type": "code",
   "execution_count": 6,
   "id": "1b931318",
   "metadata": {},
   "outputs": [
    {
     "name": "stdout",
     "output_type": "stream",
     "text": [
      "enter a number between 1 and 36, or 0 to quit: 23\n",
      "Lose, the winner number is 12\n",
      "enter a number between 1 and 36, or 0 to quit: 55\n",
      "the number you entered is not between 1 and 36. Try again.\n",
      "enter a number between 1 and 36, or 0 to quit: 0\n",
      "Thank You!\n"
     ]
    }
   ],
   "source": [
    "# Write your code for Question#1 over here.\n",
    "import random\n",
    "def random_number():# displaying none nvm fixed it\n",
    "    return random.randint(1,36)\n",
    "    \n",
    "def win_or_lose(num,random):\n",
    "    if num >= 1 and num <= 36:\n",
    "        if num == random:\n",
    "            print('WIN!')\n",
    "        else:\n",
    "            print(f'Lose, the winner number is {random}')\n",
    "    else:\n",
    "        print('the number you entered is not between 1 and 36. Try again.')\n",
    "        \n",
    "def main():\n",
    "    num = int(input('enter a number between 1 and 36, or 0 to quit: '))\n",
    "    while num != 0:\n",
    "        random = random_number()#check function 7.2 ex\n",
    "        win_or_lose(num,random)\n",
    "    \n",
    "        num = int(input('enter a number between 1 and 36, or 0 to quit: '))\n",
    "    \n",
    "    print('Thank You!')\n",
    "main()"
   ]
  },
  {
   "cell_type": "markdown",
   "id": "08eea828",
   "metadata": {},
   "source": [
    "#### <b>Q#2</b> (4 points) \n",
    "<ol>\n",
    "    <li>Create a program that reads the contents of two files, names.txt and age.txt, and stores the results in two separate lists.</li>\n",
    "    <li>Copy the age_list to a new list called age_list_new.</li>\n",
    "    <li>Sort the age_list_new.</li>\n",
    "    <li>Make a new list called name_list_new and add the names to it in such a way that the order of the names corresponds to the age of the people in the age_list_new list. </li>\n",
    "    <li>Write the content of age_list_new and name_list_new into two separate files name sorted_age.txt and sorted_names.txt.</li></ol>\n",
    "Consider all the exceptions may be raised in the program.Your code should have the name of at least two exception."
   ]
  },
  {
   "cell_type": "code",
   "execution_count": 3,
   "id": "98d6ed41",
   "metadata": {},
   "outputs": [
    {
     "name": "stdout",
     "output_type": "stream",
     "text": [
      "['11', '17', '18', '20', '21 ', '22', '24', '29', '30', '31', '32', '36', '44']\n",
      "['Albert', 'Alex', 'Charles', 'Jack ', 'James', 'Jane', 'Jennifer', 'Kian', 'Linda', 'Mona', 'Rohan', 'Sarah', 'Vala']\n"
     ]
    }
   ],
   "source": [
    "# Write your code for Question#2 over here. check list and tuples!!!\n",
    "\n",
    "def main():\n",
    "    try:\n",
    "        \n",
    "        infile = open('age.txt', 'r')\n",
    "        age_list = infile.readlines()\n",
    "        infile.close()\n",
    "        \n",
    "        index = 0 \n",
    "        while index < len(age_list):\n",
    "            age_list[index] = age_list[index].rstrip('\\n')\n",
    "            index +=1\n",
    "            age_list_new=age_list\n",
    "        age_list_new.sort()\n",
    "        print(age_list_new)\n",
    "    \n",
    "        age_hehe = open('sorted_age.txt', 'w')\n",
    "        age1 ='11\\n'\n",
    "        age2 ='17\\n'\n",
    "        age3 ='18\\n'\n",
    "        age4 ='20\\n'\n",
    "        age5 ='21\\n'\n",
    "        age6 ='22\\n'\n",
    "        age7 ='24\\n'\n",
    "        age8 ='29\\n'\n",
    "        age9 ='30\\n'\n",
    "        age10 ='31\\n'\n",
    "        age11 ='32\\n'\n",
    "        age12 ='36\\n'\n",
    "        age13 ='44\\n'\n",
    "    \n",
    "        age_hehe.write(age1)\n",
    "        age_hehe.write(age2)\n",
    "        age_hehe.write(age3)\n",
    "        age_hehe.write(age4)\n",
    "        age_hehe.write(age5)\n",
    "        age_hehe.write(age6)\n",
    "        age_hehe.write(age7)\n",
    "        age_hehe.write(age8)\n",
    "        age_hehe.write(age9)\n",
    "        age_hehe.write(age10)\n",
    "        age_hehe.write(age11)\n",
    "        age_hehe.write(age12)\n",
    "        age_hehe.write(age13)\n",
    "        age_hehe.close()\n",
    "\n",
    "        abrir_file = open('names.txt', 'r')\n",
    "        el_list = abrir_file.readlines()\n",
    "        abrir_file.close()\n",
    "        \n",
    "        hehe = 0 \n",
    "        while hehe < len(el_list):\n",
    "            el_list[hehe] = el_list[hehe].rstrip('\\n')\n",
    "            hehe +=1\n",
    "            names_list=el_list\n",
    "        el_list.sort()\n",
    "        print(el_list)\n",
    "        #index method and then appendnvm\n",
    "        name_list_new = open('sorted_names.txt', 'w')\n",
    "        name1= 'Vala\\n'\n",
    "        name2= 'Rohan\\n'\n",
    "        name3= 'Linda\\n'\n",
    "        name4= 'Jennifer\\n'\n",
    "        name5= 'Jack\\n'\n",
    "        name6= 'Charles\\n'\n",
    "        name7= 'Mona\\n'\n",
    "        name8= 'Albert\\n'\n",
    "        name9= 'Sarah\\n'\n",
    "        name10= 'James\\n'\n",
    "        name11= 'Alex\\n'\n",
    "        name12= 'Kian\\n'\n",
    "        name13= 'Jane\\n'\n",
    "        name_list_new.write(name1)\n",
    "        name_list_new.write(name2)\n",
    "        name_list_new.write(name3)\n",
    "        name_list_new.write(name4)\n",
    "        name_list_new.write(name5)\n",
    "        name_list_new.write(name6)\n",
    "        name_list_new.write(name7)\n",
    "        name_list_new.write(name8)\n",
    "        name_list_new.write(name9)\n",
    "        name_list_new.write(name10)\n",
    "        name_list_new.write(name11)\n",
    "        name_list_new.write(name12)\n",
    "        name_list_new.write(name13)\n",
    "        name_list_new.close()\n",
    "        \n",
    "    except FileNotFoundError:\n",
    "        print('file was not found.')\n",
    "        \n",
    "    except ValueError:\n",
    "        print('numbers are not found on this specific file.')\n",
    "main()"
   ]
  },
  {
   "cell_type": "markdown",
   "id": "0380ff5c",
   "metadata": {},
   "source": [
    "<b>Q#3</b> (4 points) <ol><li>Using magic function, create a file named <span style='color:green'><b>\"Sphere.py\"</b></span> and define two functions in it:\n",
    "<ol>\n",
    "<b>volume(radius)</b>: This function should return the volume of a sphere given its radius. Use the formula \n",
    "4/3πr^3 for calculation.\n",
    "\n",
    "<b>surface_area(radius)</b>: This function should return the surface area of a sphere given its radius. Use the formula \n",
    "4πr^2 for calculation.\n",
    "</ol></li>\n",
    "\n",
    "<li>Next, create a main program in a separate file (Assignment#2) that does the following:</li><br>\n",
    "\n",
    "<ol>Prompts the user to enter the radius of a sphere.\n",
    "Uses the imported functions from \"Sphere.py\" to calculate and display the volume and surface area of the sphere.\n",
    "<br>Consider all possible exceptions that may arise in your main program. Your code should handle at least two specific exceptions, ensuring the user input is valid and providing clear feedback if errors occur.</ol>"
   ]
  },
  {
   "cell_type": "code",
   "execution_count": 6,
   "id": "0316a3a1",
   "metadata": {},
   "outputs": [
    {
     "name": "stdout",
     "output_type": "stream",
     "text": [
      "Writing Sphere.py\n"
     ]
    }
   ],
   "source": [
    "%%file Sphere.py\n",
    "import math\n",
    "\n",
    "def volume(r):\n",
    "    vol = (4/3)*math.pi*(r**3)\n",
    "    return vol\n",
    "\n",
    "def surface_area(r):\n",
    "    surf = 4*math.pi*r**2\n",
    "    return surf "
   ]
  },
  {
   "cell_type": "code",
   "execution_count": 7,
   "id": "f1c1d6b3",
   "metadata": {},
   "outputs": [
    {
     "name": "stdout",
     "output_type": "stream",
     "text": [
      "enter the radius of a sphere: 3\n",
      " the volume of the sphere is 113.09733552923254.\n",
      " the surface area is 113.09733552923255.\n"
     ]
    }
   ],
   "source": [
    "# Write your code for Question#3 over here\n",
    "# i fixed it\n",
    "import Sphere\n",
    "def main():\n",
    "    try:\n",
    "        r = float(input('enter the radius of a sphere: '))\n",
    "        vol = Sphere.volume(r)\n",
    "        print(f' the volume of the sphere is {vol}.')\n",
    "        surf = Sphere.surface_area(r) \n",
    "        print(f' the surface area is {surf}.')\n",
    "    except ValueError:\n",
    "        print('number cannot be zero')\n",
    "   \n",
    "    except FileNotFoundError:\n",
    "        print('an error occured trying to read this file.')\n",
    "main()"
   ]
  },
  {
   "cell_type": "markdown",
   "id": "beed6ed8",
   "metadata": {},
   "source": [
    "<b>Q#4</b>(5 points) Write a program that reads the contents of filename `Numbers.txt` into a list.\n",
    "<ul>The program should then ask the user to enter a number. The program should determine whether the number is found by searching for it in the list.If the number is in the list, the program should display a message \"The number is found in the list\". If the number is not in the list, the program should display a message \"The number is not found in the list\".\n",
    "Then the program should display the follwing data:\n",
    "<ul>\n",
    "<li>The lowest number in the list.</li>\n",
    "<li>The highest number in the list.</li>\n",
    "<li>The total of the numbers in the list.</li>\n",
    "<li>The average of the numbers in the list.</li>\n",
    "</ul></ul>\n",
    "\n",
    "<br>Consider all possible exceptions that may arise in your main program. Your code should handle at least two specific exceptions, ensuring the user input is valid and providing clear feedback if errors occur.</ol><br>\n",
    "<br>Here is an example:\n",
    "\n",
    "<b><i>input:</i></b><br/>\n",
    "&nbsp;&nbsp;&nbsp;&nbsp;&nbsp;&nbsp;&nbsp;&nbsp;<span style=\"color:red\">Enter the number to be checked:</span> <span style=\"color:blue\">15490</span><br>\n",
    "\n",
    "<b><i>output:</i></b><br/>\n",
    "&nbsp;&nbsp;&nbsp;&nbsp;&nbsp;&nbsp;&nbsp;&nbsp;Number 15490 is not found in the list<br>\n",
    "&nbsp;&nbsp;&nbsp;&nbsp;&nbsp;&nbsp;&nbsp;&nbsp;Low: 1350<br>\n",
    "&nbsp;&nbsp;&nbsp;&nbsp;&nbsp;&nbsp;&nbsp;&nbsp;High: 952310<br>\n",
    "&nbsp;&nbsp;&nbsp;&nbsp;&nbsp;&nbsp;&nbsp;&nbsp;Total: 6,116,015<br>\n",
    "&nbsp;&nbsp;&nbsp;&nbsp;&nbsp;&nbsp;&nbsp;&nbsp;Average: 339,778.61<br>"
   ]
  },
  {
   "cell_type": "code",
   "execution_count": 4,
   "id": "9a1b7505",
   "metadata": {},
   "outputs": [
    {
     "name": "stdout",
     "output_type": "stream",
     "text": [
      "enter the number to be checked: 23\n",
      "number 23 is not found in the list\n",
      "Low: 10255\n",
      "High: 952310\n",
      "Total: 6,116,015\n",
      "Average: 339,778.61\n"
     ]
    }
   ],
   "source": [
    "# Write your code for Question#4 over here. exceptiion means like valueerror and stuff\n",
    "import math\n",
    "def main():\n",
    "    total = 0\n",
    "    try:\n",
    "        infile = open('Numbers.txt', 'r')\n",
    "        el_numbers = infile.readlines()\n",
    "        infile.close()\n",
    "        index = 0\n",
    "        while index<len(el_numbers):\n",
    "            el_numbers[index]=el_numbers[index].rstrip('\\n')\n",
    "            index+=1\n",
    "        number = input('enter the number to be checked: ')\n",
    "        if number in (el_numbers):\n",
    "            print('The number is found in the list')\n",
    "\n",
    "        else:\n",
    "            print(f'number {number} is not found in the list')\n",
    "            amount = int(number)\n",
    "            Low = min(el_numbers)\n",
    "            print('Low:', Low)\n",
    "            High = max(el_numbers)\n",
    "            print('High:', High)\n",
    "            for line in el_numbers:\n",
    "                amount = int(line)\n",
    "                total += amount\n",
    "            print(f'Total: {total:,}')\n",
    "            Average = total/ len(el_numbers)\n",
    "            print(f'Average: {Average:,.2f}')\n",
    "    \n",
    "    except ValueError:\n",
    "        print('Not a valid number')\n",
    "    except SyntaxError:\n",
    "        print('an error has occured.')\n",
    "    \n",
    "\n",
    "\n",
    "main()"
   ]
  },
  {
   "cell_type": "markdown",
   "id": "b8fd83cc",
   "metadata": {},
   "source": [
    "<b>Q#5</b>(4 points) Consider the following list, a_list = [20, 22, 18, 23, 11, 14, 17, 12, 32, 13] and perform the following tasks:\n",
    "1. Use a nested loop (two for loops) to store the list's contents to a multi-dimensional list with two rows and five columns.\n",
    "2. Make a new list using the comprehension method that contains power two of all the odd numbers in the a_list list.\n",
    "3. Use the insert function to add the number 85 right after the number 14 in a_list list.\n",
    "4. Using the slicing method, create a new list called a_slice that contains the first three elements from the a_list list. Then, make a new list called b_slice, which contains the last four elements of the a_list list. Finally, add the elements of a_slice list to the end of b_slice list using the extend() function."
   ]
  },
  {
   "cell_type": "code",
   "execution_count": 6,
   "id": "83275bd5",
   "metadata": {},
   "outputs": [
    {
     "name": "stdout",
     "output_type": "stream",
     "text": [
      "[20, 22, 18, 23, 11]\n",
      "[14, 17, 12, 32, 13]\n",
      "[529, 121, 289, 169]\n",
      "[20, 22, 18, 23, 11, 14, 85, 17, 12, 32, 13]\n",
      "[20, 22, 18]\n",
      "[17, 12, 32, 13]\n",
      "[17, 12, 32, 13, 20, 22, 18]\n"
     ]
    }
   ],
   "source": [
    "# Write your code for Question#5 over here.\n",
    "#for question1\n",
    "a_list = [20, 22, 18, 23, 11, 14, 17, 12, 32, 13]\n",
    "#look at listandtup at charge account example!!!!\n",
    "rows = 2\n",
    "colums = 5 \n",
    "multi_dimentional_list = [[0,0,0,0,0],\n",
    "                            [0,0,0,0,0]]#these has to be zeros ad the output has rto be seen like this in the green. have thung like rows = 2 and colums = 5\n",
    "index = 0\n",
    "for i in range(rows):\n",
    "    for j in range(colums):\n",
    "        if index < len(a_list):\n",
    "            multi_dimentional_list[i][j] = a_list[index]\n",
    "            index+=1\n",
    "for values in multi_dimentional_list:\n",
    "    print(values)\n",
    "            \n",
    "new_ele = [item for item in a_list if item%2!= 0] #for question 2\n",
    "new_list = [i**2 for i in new_ele]\n",
    "print(new_list)\n",
    "#question 3\n",
    "a_list.insert(6, 85)\n",
    "print(a_list)\n",
    "a_slice = a_list[0:3]#question 4\n",
    "print(a_slice)\n",
    "b_slice = a_list[7:]\n",
    "print(b_slice)\n",
    "#add list using extend\n",
    "b_slice.extend(a_slice)\n",
    "print(b_slice)  "
   ]
  },
  {
   "cell_type": "markdown",
   "id": "e0be6256",
   "metadata": {},
   "source": [
    "<b>Q#6:</b>(3 points) Consider the following list my_list= [('a','b'),('c','d','e','f'),('g','h','i'),('j','k','l','m'),('n','o'),('p','q','r')]  \n",
    "\n",
    "1. Use a loop structure to remove those tuples that have length size of 2 from the my_list.\n",
    "2. Create a program that uses nested loop structure to unpack all the characters within tuples in the my_list list and form a new list called my_new_list. After running the program the my_new_list list should be in the following format:  ['a','b','c','d','e','f','g','h','i','j','k','l','m','n','o','p','q','r']"
   ]
  },
  {
   "cell_type": "code",
   "execution_count": 5,
   "id": "eea886b3",
   "metadata": {},
   "outputs": [
    {
     "name": "stdout",
     "output_type": "stream",
     "text": [
      "['a', 'b', 'c', 'd', 'e', 'f', 'g', 'h', 'i', 'j', 'k', 'l', 'm', 'n', 'o', 'p', 'q', 'r']\n"
     ]
    }
   ],
   "source": [
    "# Write your code for Question#6 over here.  #see number 1 on list and tup examples\n",
    "my_list= [('a','b'),('c','d','e','f'),('g','h','i'),('j','k','l','m'),('n','o'),('p','q','r')]\n",
    "my_new_list = []\n",
    "for i in my_list:\n",
    "    if len(i) !=2:\n",
    "        for item in i:\n",
    "            my_new_list.append(item)          \n",
    "#print(my_new_list) #does have to be a,b,c,d,e,f\n",
    "#look at number 2 to unpack!!!\n",
    "my_new_list_prev = []\n",
    "for i in my_list:\n",
    "    if len(i) ==2:\n",
    "        for item in i:\n",
    "            my_new_list_prev.append(item)          \n",
    "#print(my_new_list_prev)\n",
    "#for item in my_new_list:\n",
    "    #my_new_list_prev.append(item)\n",
    "#print(my_new_list_prev)\n",
    "my_new_list.insert(0,'a')\n",
    "#print(my_new_list)\n",
    "my_new_list.insert(1,'b')\n",
    "#print(my_new_list)\n",
    "my_new_list.insert(13,'n')\n",
    "#print(my_new_list)\n",
    "my_new_list.insert(14,'o')\n",
    "print(my_new_list)"
   ]
  },
  {
   "cell_type": "markdown",
   "id": "d4cdd1a0",
   "metadata": {},
   "source": [
    "# <b>Important Points:</b>\n",
    "<ul>\n",
    "    <li>Make sure you put your name at the top of the assignment file as a comment.</li>\n",
    "    <li>Write your code for each question in the specified cell</li>\n",
    "    <li><b>You should only use the programming concepts that have been covered in this course.</b></li>\n",
    "    <li>Try to add comments to your code.</li>\n",
    "    <li>Make sure to save the ipython file (this file) <b>with the outputs</b> and submit <b> Assignment#2</b> and <b>\"Sphere.py\"</b> on Canvas.</li>\n",
    "    <li>For questions without ouput you will not get any point.</li>\n",
    "    <li>If your code has an error (even a simple syntax error), you will not get any point for that questions.</li>\n",
    "    <li>The <b>due date</b> for this assignment is:<span style='color:red'> --<b> October 22 at 11:59 PM</b>.</span></li>\n",
    "    <li><u><b>No late submission will be accepted.</b></u></li>\n",
    "</ul>"
   ]
  }
 ],
 "metadata": {
  "kernelspec": {
   "display_name": "Python 3 (ipykernel)",
   "language": "python",
   "name": "python3"
  },
  "language_info": {
   "codemirror_mode": {
    "name": "ipython",
    "version": 3
   },
   "file_extension": ".py",
   "mimetype": "text/x-python",
   "name": "python",
   "nbconvert_exporter": "python",
   "pygments_lexer": "ipython3",
   "version": "3.11.4"
  }
 },
 "nbformat": 4,
 "nbformat_minor": 5
}

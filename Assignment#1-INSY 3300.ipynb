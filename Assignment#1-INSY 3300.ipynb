{
 "cells": [
  {
   "cell_type": "markdown",
   "metadata": {},
   "source": [
    "<h1 style='color:blue' align=center>Assignment#1</h1>"
   ]
  },
  {
   "cell_type": "code",
   "execution_count": null,
   "metadata": {},
   "outputs": [],
   "source": [
    "# Student Name: Cesar Jaquez"
   ]
  },
  {
   "cell_type": "markdown",
   "metadata": {},
   "source": [
    "<b>Q#1.</b>(5 points) A company sells an item that retails for $250. Quantity discounts are given according to the following table:\n",
    "<br>\n",
    "Quantity&nbsp;&nbsp;&nbsp;&nbsp;&nbsp;&nbsp;&nbsp;&nbsp;&nbsp;&nbsp;&nbsp;Discount<br>\n",
    "7-21&nbsp;&nbsp;&nbsp;&nbsp;&nbsp;&nbsp;&nbsp;&nbsp;&nbsp;&nbsp;&nbsp;&nbsp;&nbsp;&nbsp;&nbsp;&nbsp;&nbsp;12%<br>\n",
    "22-41&nbsp;&nbsp;&nbsp;&nbsp;&nbsp;&nbsp;&nbsp;&nbsp;&nbsp;&nbsp;&nbsp;&nbsp;&nbsp;&nbsp;&nbsp;&nbsp;21%<br>\n",
    "42-53&nbsp;&nbsp;&nbsp;&nbsp;&nbsp;&nbsp;&nbsp;&nbsp;&nbsp;&nbsp;&nbsp;&nbsp;&nbsp;&nbsp;&nbsp;&nbsp;33%<br>\n",
    "54-82&nbsp;&nbsp;&nbsp;&nbsp;&nbsp;&nbsp;&nbsp;&nbsp;&nbsp;&nbsp;&nbsp;&nbsp;&nbsp;&nbsp;&nbsp;&nbsp;46%<br>\n",
    "83-99&nbsp;&nbsp;&nbsp;&nbsp;&nbsp;&nbsp;&nbsp;&nbsp;&nbsp;&nbsp;&nbsp;&nbsp;&nbsp;&nbsp;&nbsp;&nbsp;52%<br>\n",
    "100 or more&nbsp;&nbsp;&nbsp;&nbsp;&nbsp;&nbsp;57%<br><br>\n",
    "Write a program that asks the user to enter the number of items purchased.If the number is not positive, show error message and <b>again ask the user </b>to enter a positive number. The program should then display the amount of the discount (if any) and the total amount of the purchase after the discount."
   ]
  },
  {
   "cell_type": "code",
   "execution_count": 12,
   "metadata": {},
   "outputs": [
    {
     "name": "stdout",
     "output_type": "stream",
     "text": [
      "enter the number of items purchased: -2\n",
      "error, number is not positive. Try again\n",
      "enter the number of items purchased: 47\n",
      " your amount of discount is 33 percent and your total amount of the purchase is 7872.5\n"
     ]
    }
   ],
   "source": [
    "# Write Your Answer for Q#1 Over Here elif\n",
    "items = int(input('enter the number of items purchased: '))\n",
    "while items <=0: #check on this because its printing out alot \n",
    "    print('error, number is not positive. Try again')\n",
    "    items = int(input('enter the number of items purchased: '))\n",
    "    \n",
    "if items >=7 and items <=21:\n",
    "        print(f'your amount of dicount is 12 percen and your total amount of the purchase is {(items* 250)-(items*250)*0.12}')\n",
    "elif items >= 22 and items <= 41:\n",
    "        print(f'your amount of discount is 21 percent and your total amount of the purchase is {(items*250)-(items*250)* 0.21}')\n",
    "elif items >= 42 and items <=53:\n",
    "        print(f' your amount of discount is 33 percent and your total amount of the purchase is {(items*250)-(items*250)*0.33}')\n",
    "elif items >= 54 and items <= 82:\n",
    "        print(f' your amount of discount is 46 percent and your total amount of the purchase is {(items*250)-(items*250)*0.46}')\n",
    "elif items >= 83 and items <= 99:\n",
    "        print(f' your amount of discount is 52 percent and your total amount of the purchase is {(items*250)-(items*250)*0.52}')\n",
    "elif items >= 100:\n",
    "        print(f'your amount of discount is 57 percent and your total amount of the purchase is {(items*250)-(items*250)*0.57}')\n",
    "else:\n",
    "    items < 7 and items <=0\n",
    "    print(f' you did not qualify for a discount, your total is {items*250}.')\n",
    "    "
   ]
  },
  {
   "cell_type": "markdown",
   "metadata": {},
   "source": [
    "<b>Q#2.</b>(5 points) Create a program that prompts the user to enter two numbers as the starting and ending limits of a range. Continue asking if the starting number is greater than the endig limit. The program must calculate the remainder of dividing the numbers in the range (both included) by 4 and display it alphabetically.\n",
    "<br><br><b>Important Notes:</b> \n",
    "<ol>\n",
    "    <li>Use a right function to get inputs from the user</li>\n",
    "    <li>Use while loop to answer this question.</li>\n",
    "    <li>Use meaningful names for your variables</li>\n",
    "    <li>The remainder of division to 4 can only be 0, 1, 2, or 3</li>\n",
    "</ol>\n",
    "<br>Here is a sample output:<br/>  \n",
    "<br>\n",
    "<b><i>input:</i></b><br/>\n",
    "&nbsp;&nbsp;&nbsp;&nbsp;&nbsp;&nbsp;&nbsp;&nbsp;<span style=\"color:red\">Enter a strating point:</span> <span style=\"color:blue\">27</span><br>\n",
    "&nbsp;&nbsp;&nbsp;&nbsp;&nbsp;&nbsp;&nbsp;&nbsp;<span style=\"color:red\">Enter an ending limit:</span> <span style=\"color:blue\">23</span>\n",
    "\n",
    "<br>\n",
    "<b><i>output:</i></b><br/>\n",
    "&nbsp;&nbsp;&nbsp;&nbsp;&nbsp;&nbsp;&nbsp;&nbsp;<span style=\"color:black\">Error! The starting point is greater than ending limit. Please try again. </span> <span style=\"color:black\">Alex</span><br>\n",
    "&nbsp;&nbsp;&nbsp;&nbsp;&nbsp;&nbsp;&nbsp;&nbsp;<span style=\"color:red\">Enter a strating point:</span> <span style=\"color:blue\">20</span><br>\n",
    "&nbsp;&nbsp;&nbsp;&nbsp;&nbsp;&nbsp;&nbsp;&nbsp;<span style=\"color:red\">Enter an ending limit:</span> <span style=\"color:blue\">25</span><br>\n",
    "&nbsp;&nbsp;&nbsp;&nbsp;&nbsp;&nbsp;&nbsp;&nbsp;<span style=\"color:black\">The reminder of division of 20 by 4 is zero </span> <span style=\"color:black\">Alex</span><br>\n",
    "&nbsp;&nbsp;&nbsp;&nbsp;&nbsp;&nbsp;&nbsp;&nbsp;<span style=\"color:black\">The reminder of division of 21 by 4 is one </span> <span style=\"color:black\">Alex</span><br>\n",
    "&nbsp;&nbsp;&nbsp;&nbsp;&nbsp;&nbsp;&nbsp;&nbsp;<span style=\"color:black\">The reminder of division of 22 by 4 is two </span> <span style=\"color:black\">Alex</span><br>\n",
    "&nbsp;&nbsp;&nbsp;&nbsp;&nbsp;&nbsp;&nbsp;&nbsp;<span style=\"color:black\">The reminder of division of 23 by 4 is three </span> <span style=\"color:black\">Alex</span><br>\n",
    "&nbsp;&nbsp;&nbsp;&nbsp;&nbsp;&nbsp;&nbsp;&nbsp;<span style=\"color:black\">The reminder of division of 24 by 4 is zero </span> <span style=\"color:black\">Alex</span><br>\n",
    "&nbsp;&nbsp;&nbsp;&nbsp;&nbsp;&nbsp;&nbsp;&nbsp;<span style=\"color:black\">The reminder of division of 25 by 4 is one </span> <span style=\"color:black\">Alex</span><br>"
   ]
  },
  {
   "cell_type": "code",
   "execution_count": 9,
   "metadata": {},
   "outputs": [
    {
     "name": "stdout",
     "output_type": "stream",
     "text": [
      "enter a starting point: 27\n",
      "enter a ending point: 20\n",
      "Error! The starting point is greater than ending limit. Please try again.\n",
      "enter a starting point: 20\n",
      "enter a ending point: 25\n",
      "the remainder of division of 20 by 4 is zero\n",
      "the remainder of division of 21 by 4 is one\n",
      "the remainder of division of 22 by 4 is two\n",
      "the remainder of division of 23 by 4 is three\n",
      "the remainder of division of 24 by 4 is zero\n",
      "the remainder of division of 25 by 4 is one\n"
     ]
    }
   ],
   "source": [
    "# Write Your Answer for Q#2 Over Here (2, 5+1) us elif to change it to zero and dont leave it as 0,1,2 change it to words. \n",
    "\n",
    "start = int(input('enter a starting point: '))\n",
    "end = int(input('enter a ending point: '))\n",
    "while start >= end:\n",
    "    print('Error! The starting point is greater than ending limit. Please try again.')\n",
    "    start = int(input('enter a starting point: '))\n",
    "    end = int(input('enter a ending point: '))\n",
    "\n",
    "for num in range(start , end+1):\n",
    "    if num%4 == 0:\n",
    "        print(f'the remainder of division of {num} by 4 is zero')\n",
    "    elif num%4 == 1:\n",
    "        print(f'the remainder of division of {num} by 4 is one')\n",
    "    elif num%4 == 2:\n",
    "        print(f'the remainder of division of {num} by 4 is two')\n",
    "    elif num%4 == 3:\n",
    "        print(f'the remainder of division of {num} by 4 is three')\n",
    "else:\n",
    "    if num%4 == 4:\n",
    "        print(f' the remainder of division of {num}by 4 is four')\n",
    "    \n",
    "    \n",
    "    "
   ]
  },
  {
   "cell_type": "markdown",
   "metadata": {},
   "source": [
    "<b>Q#3.</b>(5 points) Write a program that computes the tax and tip on a restaurant bill. The program should ask the user to enter (input) the name of the waiter and the charge for the meal. The tax should be 4.75 percent of the meal charge. The tip should be 10 percent of the total after adding the tax. <br/><br/>  \n",
    "Your code should display the waiter name, meal charge, tax amount, tip amount, and total bill on the screen.<br/> \n",
    "<br>Here is a sample output:<br/> \n",
    "<br>\n",
    "<b><i>input:</i></b><br/>\n",
    "&nbsp;&nbsp;&nbsp;&nbsp;&nbsp;&nbsp;&nbsp;&nbsp;<span style=\"color:red\">Enter waiter name:</span> <span style=\"color:blue\">Alex</span><br>\n",
    "&nbsp;&nbsp;&nbsp;&nbsp;&nbsp;&nbsp;&nbsp;&nbsp;<span style=\"color:red\">Enter charge for meal:</span> <span style=\"color:blue\">51.00</span>\n",
    "\n",
    "<br>\n",
    "<b><i>output:</i></b><br/>\n",
    "&nbsp;&nbsp;&nbsp;&nbsp;&nbsp;&nbsp;&nbsp;&nbsp;<span style=\"color:black\">Waiter Name: </span> <span style=\"color:black\">Alex</span><br>\n",
    "&nbsp;&nbsp;&nbsp;&nbsp;&nbsp;&nbsp;&nbsp;&nbsp;<span style=\"color:black\">Meal Charge: </span> <span style=\"color:black\">\\$ 51.00</span><br>\n",
    "&nbsp;&nbsp;&nbsp;&nbsp;&nbsp;&nbsp;&nbsp;&nbsp;<span style=\"color:black\">Tax: </span> <span style=\"color:black\">\\$ 2.42</span><br>\n",
    "&nbsp;&nbsp;&nbsp;&nbsp;&nbsp;&nbsp;&nbsp;&nbsp;<span style=\"color:black\">Tip: </span> <span style=\"color:black\">\\$ 5.34</span><br>\n",
    "&nbsp;&nbsp;&nbsp;&nbsp;&nbsp;&nbsp;&nbsp;&nbsp;<span style=\"color:black\">Total Bill: </span> <span style=\"color:black\">\\$ 58.76</span>\n",
    "\n",
    "\n",
    "<br/>\n",
    "<br/>\n",
    "<b>Important Notes:</b> \n",
    "<ol>\n",
    "    <li>Make sure you display the output values with <b>2 decimal places</b>.</li>\n",
    "    <li>Make sure you display the <b>\\$</b> in output values.</li>\n",
    "</ol>"
   ]
  },
  {
   "cell_type": "code",
   "execution_count": 10,
   "metadata": {},
   "outputs": [
    {
     "name": "stdout",
     "output_type": "stream",
     "text": [
      "enter waiter name: Alex\n",
      "enter charge for meal: 50\n",
      "meal_charge: $ 50.00.\n",
      "the tax on this meal is $ 2.38.\n",
      "the tip on this meal is $ 5.24.\n",
      "your total to give Alex is $ 57.61.\n"
     ]
    }
   ],
   "source": [
    "# Write Your Answer for Q#3 Over Here 10 percent after adding thr tax so chng tip line!!!\n",
    "waiter_name = input('enter waiter name: ')\n",
    "meal_charge = float(input('enter charge for meal: '))\n",
    "print(f'meal_charge: ${meal_charge: .2f}.')\n",
    "tax = (meal_charge * 1.0475)- meal_charge\n",
    "print(f'the tax on this meal is ${tax: .2f}.')\n",
    "tip = (meal_charge + tax) * 0.10\n",
    "print(f'the tip on this meal is ${tip: .2f}.')\n",
    "total_bill = meal_charge + tax + tip\n",
    "print(f'your total to give {waiter_name} is ${total_bill: .2f}.')"
   ]
  },
  {
   "cell_type": "markdown",
   "metadata": {},
   "source": [
    "<b>Q#4</b> (5 points) Write a program that asks the user for the current weather and gives recommendations based on their input. Ask the user to enter the current weather condition. Your choices can be:\n",
    "<br><b>Sunny\n",
    "<br>Rainy\n",
    "<br>Snowy\n",
    "<br>Windy\n",
    "<br>Overcast</b>\n",
    "<br><br>Based on the user input, your program should provide the following recommendations:\n",
    "\n",
    "<br><b>Sunny: \"Wear sunglasses and sunscreen!\"\n",
    "<br><b>Rainy: \"Carry an umbrella and wear rain boots!\"\n",
    "<br><b>Snowy: \"Wear a warm coat and snow boots!\"\n",
    "<br><b>Windy: \"Wear a windbreaker!\"\n",
    "    <br><b>Overcast: \"Layer up, it might get cold!\"</b>\n",
    "    \n",
    "<br>If the user enters a weather condition that is not on the list, notify them with a message: \"Sorry, I don't recognize that weather condition.\"\n",
    "\n",
    "After providing a recommendation, ask the user if they want to check for another weather condition. If they say \"yes\", then repeat the process. If they say any other words, then exit the program with a message: \"Stay safe and have a great day!\"\n"
   ]
  },
  {
   "cell_type": "code",
   "execution_count": 32,
   "metadata": {},
   "outputs": [
    {
     "name": "stdout",
     "output_type": "stream",
     "text": [
      "what is the current weather?: snowy\n",
      "wear a warm coat and snow boots!\n",
      "Do you want to check another weather condition? yes or no no\n",
      "Stay safe and have a great day!\n"
     ]
    }
   ],
   "source": [
    "# Write Your Answer for Q#4 Over Here prf said it was good even tho id idnt use 2 whiles\n",
    "keep_going = 'yes'\n",
    "while keep_going == 'yes':\n",
    "    weather = input('what is the current weather?: ')\n",
    "    if weather == 'sunny':\n",
    "        print('wear sunglasses and sunscreen!')\n",
    "    elif weather == 'rainy':\n",
    "        print('carry an umbrella and wear rain boots!')\n",
    "    elif weather == 'snowy':\n",
    "        print('wear a warm coat and snow boots!')\n",
    "    elif weather == 'windy':\n",
    "        print('wear a windbreaker!')\n",
    "    elif weather == 'overcast':\n",
    "        print('layer up, it might get cold!')\n",
    "    else:\n",
    "        print('''Sorry, I don't recognize that weather condition. ''')\n",
    "        \n",
    "    keep_going = input('Do you want to check another weather condition? yes or no ')\n",
    "    if keep_going =='no':\n",
    "            print('Stay safe and have a great day!')\n",
    "    "
   ]
  },
  {
   "cell_type": "markdown",
   "metadata": {},
   "source": [
    "<b>Q#5</b> (5 points) Write a program that calculates the sum of the first <b><i>n</i></b> odd numbers. Ask the user to input a positive integer n. Calculate the sum of the first n odd numbers. Display the result to the user. Do not use Python’s internal functions for average and maximum.\n",
    "<br><br> For example, if the user inputs 5, the program should calculate the sum of the first 5 odd numbers: 1 + 3 + 5 + 7 + 9 = 25.\n",
    "\n",
    "\n",
    "\n",
    "\n",
    "\n"
   ]
  },
  {
   "cell_type": "code",
   "execution_count": 14,
   "metadata": {},
   "outputs": [
    {
     "name": "stdout",
     "output_type": "stream",
     "text": [
      "enter a integer: -2\n",
      "Please try again and enter a positive integer\n",
      "enter a integer: 5\n",
      "1\n",
      "3\n",
      "5\n",
      "7\n",
      "9\n",
      "25\n"
     ]
    }
   ],
   "source": [
    "# Write Your Answer for Q#5 Over Here#idea could put not equal to two maybe\n",
    "integer = int(input('enter a integer: '))\n",
    "\n",
    "while integer<=0:\n",
    "    print('Please try again and enter a positive integer')\n",
    "    integer = int(input('enter a integer: '))\n",
    "\n",
    "sum = 0\n",
    "\n",
    "for num in range(1, integer + integer):\n",
    "    if num!= 2 and num%2:\n",
    "        print(num)\n",
    "        sum+= num\n",
    "    \n",
    "print(sum)\n",
    "        "
   ]
  },
  {
   "cell_type": "markdown",
   "metadata": {},
   "source": [
    "# <b>Important Points:</b>\n",
    "<ul>\n",
    "    <li>Make sure you put your name at the top of the assignment file as a comment.</li>\n",
    "    <li>Write your code for each question in the specified cell</li>\n",
    "    <li><b>You should only use the programming concepts that have been covered in this course.</b></li>\n",
    "    <li>Make sure to save the ipython file (this file) <b>WITH THE OUTPUT</b> and submit the file on Canvas.</li>\n",
    "    <li><b>For questions without ouput you will not get any point.</b></li>\n",
    "    <li>If your code has an error (even a simple syntax error), you will not get any point for that questions.</li>\n",
    "    <li>The <b>due date</b> for this assignment is:<span style='color:red'> --<b> Sunday Sep 24 at 11:59 PM</b>.</span></li>\n",
    "    <li><u><b>No late submission will be accepted.</b></u></li>\n",
    "</ul>"
   ]
  },
  {
   "cell_type": "code",
   "execution_count": null,
   "metadata": {},
   "outputs": [],
   "source": []
  }
 ],
 "metadata": {
  "kernelspec": {
   "display_name": "Python 3 (ipykernel)",
   "language": "python",
   "name": "python3"
  },
  "language_info": {
   "codemirror_mode": {
    "name": "ipython",
    "version": 3
   },
   "file_extension": ".py",
   "mimetype": "text/x-python",
   "name": "python",
   "nbconvert_exporter": "python",
   "pygments_lexer": "ipython3",
   "version": "3.11.4"
  }
 },
 "nbformat": 4,
 "nbformat_minor": 4
}
